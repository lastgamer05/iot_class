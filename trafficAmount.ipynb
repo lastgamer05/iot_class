{
  "nbformat": 4,
  "nbformat_minor": 0,
  "metadata": {
    "colab": {
      "provenance": [],
      "authorship_tag": "ABX9TyMl7ab/QHHtjfwl/yAITwjz",
      "include_colab_link": true
    },
    "kernelspec": {
      "name": "python3",
      "display_name": "Python 3"
    },
    "language_info": {
      "name": "python"
    }
  },
  "cells": [
    {
      "cell_type": "markdown",
      "metadata": {
        "id": "view-in-github",
        "colab_type": "text"
      },
      "source": [
        "<a href=\"https://colab.research.google.com/github/lastgamer05/iot_class/blob/main/trafficAmount.ipynb\" target=\"_parent\"><img src=\"https://colab.research.google.com/assets/colab-badge.svg\" alt=\"Open In Colab\"/></a>"
      ]
    },
    {
      "cell_type": "code",
      "execution_count": 4,
      "metadata": {
        "colab": {
          "base_uri": "https://localhost:8080/"
        },
        "id": "WEYcdSEcbow6",
        "outputId": "189ab791-d7c4-4944-85f4-a3550a2e10af"
      },
      "outputs": [
        {
          "output_type": "stream",
          "name": "stdout",
          "text": [
            "<?xml version=\"1.0\" encoding=\"UTF-8\" standalone=\"yes\"?><data><code>SUCCESS</code><message>인증키가 유효합니다.</message><count>84</count><trafficAll><carType>1</carType><exDivCode>00</exDivCode><exDivName>도공</exDivName><sumDate>20240318</sumDate><sumTm>10</sumTm><tcsName>TCS</tcsName><tcsType>1</tcsType><tmName>1시간</tmName><tmType>1</tmType><trafficAmout>18564</trafficAmout></trafficAll><trafficAll><carType>1</carType><exDivCode>00</exDivCode><exDivName>도공</exDivName><sumDate>20240318</sumDate><sumTm>10</sumTm><tcsName>hi-pass</tcsName><tcsType>2</tcsType><tmName>1시간</tmName><tmType>1</tmType><trafficAmout>194543</trafficAmout></trafficAll><trafficAll><carType>5</carType><exDivCode>00</exDivCode><exDivName>도공</exDivName><sumDate>20240318</sumDate><sumTm>10</sumTm><tcsName>TCS</tcsName><tcsType>1</tcsType><tmName>1시간</tmName><tmType>1</tmType><trafficAmout>1024</trafficAmout></trafficAll><trafficAll><carType>5</carType><exDivCode>00</exDivCode><exDivName>도공</exDivName><sumDate>20240318</sumDate><sumTm>10</sumTm><tcsName>hi-pass</tcsName><tcsType>2</tcsType><tmName>1시간</tmName><tmType>1</tmType><trafficAmout>14673</trafficAmout></trafficAll><trafficAll><carType>2</carType><exDivCode>01</exDivCode><exDivName>민자</exDivName><sumDate>20240318</sumDate><sumTm>10</sumTm><tcsName>TCS</tcsName><tcsType>1</tcsType><tmName>1시간</tmName><tmType>1</tmType><trafficAmout>18</trafficAmout></trafficAll><trafficAll><carType>2</carType><exDivCode>01</exDivCode><exDivName>민자</exDivName><sumDate>20240318</sumDate><sumTm>10</sumTm><tcsName>hi-pass</tcsName><tcsType>2</tcsType><tmName>1시간</tmName><tmType>1</tmType><trafficAmout>111</trafficAmout></trafficAll><trafficAll><carType>5</carType><exDivCode>01</exDivCode><exDivName>민자</exDivName><sumDate>20240318</sumDate><sumTm>10</sumTm><tcsName>TCS</tcsName><tcsType>1</tcsType><tmName>1시간</tmName><tmType>1</tmType><trafficAmout>8</trafficAmout></trafficAll><trafficAll><carType>5</carType><exDivCode>01</exDivCode><exDivName>민자</exDivName><sumDate>20240318</sumDate><sumTm>10</sumTm><tcsName>hi-pass</tcsName><tcsType>2</tcsType><tmName>1시간</tmName><tmType>1</tmType><trafficAmout>346</trafficAmout></trafficAll><trafficAll><carType>4</carType><exDivCode>02</exDivCode><exDivName>민자</exDivName><sumDate>20240318</sumDate><sumTm>10</sumTm><tcsName>TCS</tcsName><tcsType>1</tcsType><tmName>1시간</tmName><tmType>1</tmType><trafficAmout>45</trafficAmout></trafficAll><trafficAll><carType>4</carType><exDivCode>02</exDivCode><exDivName>민자</exDivName><sumDate>20240318</sumDate><sumTm>10</sumTm><tcsName>hi-pass</tcsName><tcsType>2</tcsType><tmName>1시간</tmName><tmType>1</tmType><trafficAmout>129</trafficAmout></trafficAll><trafficAll><carType>3</carType><exDivCode>08</exDivCode><exDivName>민자</exDivName><sumDate>20240318</sumDate><sumTm>10</sumTm><tcsName>TCS</tcsName><tcsType>1</tcsType><tmName>1시간</tmName><tmType>1</tmType><trafficAmout>170</trafficAmout></trafficAll><trafficAll><carType>3</carType><exDivCode>08</exDivCode><exDivName>민자</exDivName><sumDate>20240318</sumDate><sumTm>10</sumTm><tcsName>hi-pass</tcsName><tcsType>2</tcsType><tmName>1시간</tmName><tmType>1</tmType><trafficAmout>110</trafficAmout></trafficAll><trafficAll><carType>1</carType><exDivCode>10</exDivCode><exDivName>민자</exDivName><sumDate>20240318</sumDate><sumTm>10</sumTm><tcsName>TCS</tcsName><tcsType>1</tcsType><tmName>1시간</tmName><tmType>1</tmType><trafficAmout>113</trafficAmout></trafficAll><trafficAll><carType>1</carType><exDivCode>10</exDivCode><exDivName>민자</exDivName><sumDate>20240318</sumDate><sumTm>10</sumTm><tcsName>hi-pass</tcsName><tcsType>2</tcsType><tmName>1시간</tmName><tmType>1</tmType><trafficAmout>899</trafficAmout></trafficAll><trafficAll><carType>2</carType><exDivCode>08</exDivCode><exDivName>민자</exDivName><sumDate>20240318</sumDate><sumTm>10</sumTm><tcsName>TCS</tcsName><tcsType>1</tcsType><tmName>1시간</tmName><tmType>1</tmType><trafficAmout>35</trafficAmout></trafficAll><trafficAll><carType>2</carType><exDivCode>08</exDivCode><exDivName>민자</exDivName><sumDate>20240318</sumDate><sumTm>10</sumTm><tcsName>hi-pass</tcsName><tcsType>2</tcsType><tmName>1시간</tmName><tmType>1</tmType><trafficAmout>91</trafficAmout></trafficAll><trafficAll><carType>6</carType><exDivCode>08</exDivCode><exDivName>민자</exDivName><sumDate>20240318</sumDate><sumTm>10</sumTm><tcsName>TCS</tcsName><tcsType>1</tcsType><tmName>1시간</tmName><tmType>1</tmType><trafficAmout>63</trafficAmout></trafficAll><trafficAll><carType>6</carType><exDivCode>08</exDivCode><exDivName>민자</exDivName><sumDate>20240318</sumDate><sumTm>10</sumTm><tcsName>hi-pass</tcsName><tcsType>2</tcsType><tmName>1시간</tmName><tmType>1</tmType><trafficAmout>85</trafficAmout></trafficAll><trafficAll><carType>5</carType><exDivCode>11</exDivCode><exDivName>민자</exDivName><sumDate>20240318</sumDate><sumTm>10</sumTm><tcsName>TCS</tcsName><tcsType>1</tcsType><tmName>1시간</tmName><tmType>1</tmType><trafficAmout>22</trafficAmout></trafficAll><trafficAll><carType>5</carType><exDivCode>11</exDivCode><exDivName>민자</exDivName><sumDate>20240318</sumDate><sumTm>10</sumTm><tcsName>hi-pass</tcsName><tcsType>2</tcsType><tmName>1시간</tmName><tmType>1</tmType><trafficAmout>37</trafficAmout></trafficAll><trafficAll><carType>1</carType><exDivCode>08</exDivCode><exDivName>민자</exDivName><sumDate>20240318</sumDate><sumTm>10</sumTm><tcsName>TCS</tcsName><tcsType>1</tcsType><tmName>1시간</tmName><tmType>1</tmType><trafficAmout>500</trafficAmout></trafficAll><trafficAll><carType>1</carType><exDivCode>08</exDivCode><exDivName>민자</exDivName><sumDate>20240318</sumDate><sumTm>10</sumTm><tcsName>hi-pass</tcsName><tcsType>2</tcsType><tmName>1시간</tmName><tmType>1</tmType><trafficAmout>1665</trafficAmout></trafficAll><trafficAll><carType>2</carType><exDivCode>10</exDivCode><exDivName>민자</exDivName><sumDate>20240318</sumDate><sumTm>10</sumTm><tcsName>TCS</tcsName><tcsType>1</tcsType><tmName>1시간</tmName><tmType>1</tmType><trafficAmout>3</trafficAmout></trafficAll><trafficAll><carType>2</carType><exDivCode>10</exDivCode><exDivName>민자</exDivName><sumDate>20240318</sumDate><sumTm>10</sumTm><tcsName>hi-pass</tcsName><tcsType>2</tcsType><tmName>1시간</tmName><tmType>1</tmType><trafficAmout>27</trafficAmout></trafficAll><trafficAll><carType>3</carType><exDivCode>11</exDivCode><exDivName>민자</exDivName><sumDate>20240318</sumDate><sumTm>10</sumTm><tcsName>TCS</tcsName><tcsType>1</tcsType><tmName>1시간</tmName><tmType>1</tmType><trafficAmout>75</trafficAmout></trafficAll><trafficAll><carType>3</carType><exDivCode>11</exDivCode><exDivName>민자</exDivName><sumDate>20240318</sumDate><sumTm>10</sumTm><tcsName>hi-pass</tcsName><tcsType>2</tcsType><tmName>1시간</tmName><tmType>1</tmType><trafficAmout>39</trafficAmout></trafficAll><trafficAll><carType>3</carType><exDivCode>10</exDivCode><exDivName>민자</exDivName><sumDate>20240318</sumDate><sumTm>10</sumTm><tcsName>TCS</tcsName><tcsType>1</tcsType><tmName>1시간</tmName><tmType>1</tmType><trafficAmout>15</trafficAmout></trafficAll><trafficAll><carType>3</carType><exDivCode>10</exDivCode><exDivName>민자</exDivName><sumDate>20240318</sumDate><sumTm>10</sumTm><tcsName>hi-pass</tcsName><tcsType>2</tcsType><tmName>1시간</tmName><tmType>1</tmType><trafficAmout>60</trafficAmout></trafficAll><trafficAll><carType>3</carType><exDivCode>18</exDivCode><exDivName>민자</exDivName><sumDate>20240318</sumDate><sumTm>10</sumTm><tcsName>TCS</tcsName><tcsType>1</tcsType><tmName>1시간</tmName><tmType>1</tmType><trafficAmout>137</trafficAmout></trafficAll><trafficAll><carType>3</carType><exDivCode>18</exDivCode><exDivName>민자</exDivName><sumDate>20240318</sumDate><sumTm>10</sumTm><tcsName>hi-pass</tcsName><tcsType>2</tcsType><tmName>1시간</tmName><tmType>1</tmType><trafficAmout>293</trafficAmout></trafficAll><trafficAll><carType>2</carType><exDivCode>02</exDivCode><exDivName>민자</exDivName><sumDate>20240318</sumDate><sumTm>10</sumTm><tcsName>TCS</tcsName><tcsType>1</tcsType><tmName>1시간</tmName><tmType>1</tmType><trafficAmout>16</trafficAmout></trafficAll><trafficAll><carType>2</carType><exDivCode>02</exDivCode><exDivName>민자</exDivName><sumDate>20240318</sumDate><sumTm>10</sumTm><tcsName>hi-pass</tcsName><tcsType>2</tcsType><tmName>1시간</tmName><tmType>1</tmType><trafficAmout>161</trafficAmout></trafficAll><trafficAll><carType>3</carType><exDivCode>00</exDivCode><exDivName>도공</exDivName><sumDate>20240318</sumDate><sumTm>10</sumTm><tcsName>TCS</tcsName><tcsType>1</tcsType><tmName>1시간</tmName><tmType>1</tmType><trafficAmout>3995</trafficAmout></trafficAll><trafficAll><carType>3</carType><exDivCode>00</exDivCode><exDivName>도공</exDivName><sumDate>20240318</sumDate><sumTm>10</sumTm><tcsName>hi-pass</tcsName><tcsType>2</tcsType><tmName>1시간</tmName><tmType>1</tmType><trafficAmout>7681</trafficAmout></trafficAll><trafficAll><carType>5</carType><exDivCode>02</exDivCode><exDivName>민자</exDivName><sumDate>20240318</sumDate><sumTm>10</sumTm><tcsName>TCS</tcsName><tcsType>1</tcsType><tmName>1시간</tmName><tmType>1</tmType><trafficAmout>22</trafficAmout></trafficAll><trafficAll><carType>5</carType><exDivCode>02</exDivCode><exDivName>민자</exDivName><sumDate>20240318</sumDate><sumTm>10</sumTm><tcsName>hi-pass</tcsName><tcsType>2</tcsType><tmName>1시간</tmName><tmType>1</tmType><trafficAmout>299</trafficAmout></trafficAll><trafficAll><carType>5</carType><exDivCode>08</exDivCode><exDivName>민자</exDivName><sumDate>20240318</sumDate><sumTm>10</sumTm><tcsName>TCS</tcsName><tcsType>1</tcsType><tmName>1시간</tmName><tmType>1</tmType><trafficAmout>80</trafficAmout></trafficAll><trafficAll><carType>5</carType><exDivCode>08</exDivCode><exDivName>민자</exDivName><sumDate>20240318</sumDate><sumTm>10</sumTm><tcsName>hi-pass</tcsName><tcsType>2</tcsType><tmName>1시간</tmName><tmType>1</tmType><trafficAmout>355</trafficAmout></trafficAll><trafficAll><carType>5</carType><exDivCode>10</exDivCode><exDivName>민자</exDivName><sumDate>20240318</sumDate><sumTm>10</sumTm><tcsName>TCS</tcsName><tcsType>1</tcsType><tmName>1시간</tmName><tmType>1</tmType><trafficAmout>8</trafficAmout></trafficAll><trafficAll><carType>5</carType><exDivCode>10</exDivCode><exDivName>민자</exDivName><sumDate>20240318</sumDate><sumTm>10</sumTm><tcsName>hi-pass</tcsName><tcsType>2</tcsType><tmName>1시간</tmName><tmType>1</tmType><trafficAmout>35</trafficAmout></trafficAll><trafficAll><carType>1</carType><exDivCode>11</exDivCode><exDivName>민자</exDivName><sumDate>20240318</sumDate><sumTm>10</sumTm><tcsName>TCS</tcsName><tcsType>1</tcsType><tmName>1시간</tmName><tmType>1</tmType><trafficAmout>262</trafficAmout></trafficAll><trafficAll><carType>1</carType><exDivCode>11</exDivCode><exDivName>민자</exDivName><sumDate>20240318</sumDate><sumTm>10</sumTm><tcsName>hi-pass</tcsName><tcsType>2</tcsType><tmName>1시간</tmName><tmType>1</tmType><trafficAmout>739</trafficAmout></trafficAll><trafficAll><carType>2</carType><exDivCode>18</exDivCode><exDivName>민자</exDivName><sumDate>20240318</sumDate><sumTm>10</sumTm><tcsName>TCS</tcsName><tcsType>1</tcsType><tmName>1시간</tmName><tmType>1</tmType><trafficAmout>33</trafficAmout></trafficAll><trafficAll><carType>2</carType><exDivCode>18</exDivCode><exDivName>민자</exDivName><sumDate>20240318</sumDate><sumTm>10</sumTm><tcsName>hi-pass</tcsName><tcsType>2</tcsType><tmName>1시간</tmName><tmType>1</tmType><trafficAmout>188</trafficAmout></trafficAll><trafficAll><carType>6</carType><exDivCode>10</exDivCode><exDivName>민자</exDivName><sumDate>20240318</sumDate><sumTm>10</sumTm><tcsName>TCS</tcsName><tcsType>1</tcsType><tmName>1시간</tmName><tmType>1</tmType><trafficAmout>11</trafficAmout></trafficAll><trafficAll><carType>6</carType><exDivCode>10</exDivCode><exDivName>민자</exDivName><sumDate>20240318</sumDate><sumTm>10</sumTm><tcsName>hi-pass</tcsName><tcsType>2</tcsType><tmName>1시간</tmName><tmType>1</tmType><trafficAmout>36</trafficAmout></trafficAll><trafficAll><carType>3</carType><exDivCode>01</exDivCode><exDivName>민자</exDivName><sumDate>20240318</sumDate><sumTm>10</sumTm><tcsName>TCS</tcsName><tcsType>1</tcsType><tmName>1시간</tmName><tmType>1</tmType><trafficAmout>112</trafficAmout></trafficAll><trafficAll><carType>3</carType><exDivCode>01</exDivCode><exDivName>민자</exDivName><sumDate>20240318</sumDate><sumTm>10</sumTm><tcsName>hi-pass</tcsName><tcsType>2</tcsType><tmName>1시간</tmName><tmType>1</tmType><trafficAmout>214</trafficAmout></trafficAll><trafficAll><carType>6</carType><exDivCode>00</exDivCode><exDivName>도공</exDivName><sumDate>20240318</sumDate><sumTm>10</sumTm><tcsName>TCS</tcsName><tcsType>1</tcsType><tmName>1시간</tmName><tmType>1</tmType><trafficAmout>2402</trafficAmout></trafficAll><trafficAll><carType>6</carType><exDivCode>00</exDivCode><exDivName>도공</exDivName><sumDate>20240318</sumDate><sumTm>10</sumTm><tcsName>hi-pass</tcsName><tcsType>2</tcsType><tmName>1시간</tmName><tmType>1</tmType><trafficAmout>9508</trafficAmout></trafficAll><trafficAll><carType>4</carType><exDivCode>01</exDivCode><exDivName>민자</exDivName><sumDate>20240318</sumDate><sumTm>10</sumTm><tcsName>TCS</tcsName><tcsType>1</tcsType><tmName>1시간</tmName><tmType>1</tmType><trafficAmout>72</trafficAmout></trafficAll><trafficAll><carType>4</carType><exDivCode>01</exDivCode><exDivName>민자</exDivName><sumDate>20240318</sumDate><sumTm>10</sumTm><tcsName>hi-pass</tcsName><tcsType>2</tcsType><tmName>1시간</tmName><tmType>1</tmType><trafficAmout>172</trafficAmout></trafficAll><trafficAll><carType>6</carType><exDivCode>02</exDivCode><exDivName>민자</exDivName><sumDate>20240318</sumDate><sumTm>10</sumTm><tcsName>TCS</tcsName><tcsType>1</tcsType><tmName>1시간</tmName><tmType>1</tmType><trafficAmout>65</trafficAmout></trafficAll><trafficAll><carType>6</carType><exDivCode>02</exDivCode><exDivName>민자</exDivName><sumDate>20240318</sumDate><sumTm>10</sumTm><tcsName>hi-pass</tcsName><tcsType>2</tcsType><tmName>1시간</tmName><tmType>1</tmType><trafficAmout>107</trafficAmout></trafficAll><trafficAll><carType>4</carType><exDivCode>08</exDivCode><exDivName>민자</exDivName><sumDate>20240318</sumDate><sumTm>10</sumTm><tcsName>TCS</tcsName><tcsType>1</tcsType><tmName>1시간</tmName><tmType>1</tmType><trafficAmout>172</trafficAmout></trafficAll><trafficAll><carType>4</carType><exDivCode>08</exDivCode><exDivName>민자</exDivName><sumDate>20240318</sumDate><sumTm>10</sumTm><tcsName>hi-pass</tcsName><tcsType>2</tcsType><tmName>1시간</tmName><tmType>1</tmType><trafficAmout>83</trafficAmout></trafficAll><trafficAll><carType>4</carType><exDivCode>10</exDivCode><exDivName>민자</exDivName><sumDate>20240318</sumDate><sumTm>10</sumTm><tcsName>TCS</tcsName><tcsType>1</tcsType><tmName>1시간</tmName><tmType>1</tmType><trafficAmout>9</trafficAmout></trafficAll><trafficAll><carType>4</carType><exDivCode>10</exDivCode><exDivName>민자</exDivName><sumDate>20240318</sumDate><sumTm>10</sumTm><tcsName>hi-pass</tcsName><tcsType>2</tcsType><tmName>1시간</tmName><tmType>1</tmType><trafficAmout>6</trafficAmout></trafficAll><trafficAll><carType>4</carType><exDivCode>11</exDivCode><exDivName>민자</exDivName><sumDate>20240318</sumDate><sumTm>10</sumTm><tcsName>TCS</tcsName><tcsType>1</tcsType><tmName>1시간</tmName><tmType>1</tmType><trafficAmout>71</trafficAmout></trafficAll><trafficAll><carType>4</carType><exDivCode>11</exDivCode><exDivName>민자</exDivName><sumDate>20240318</sumDate><sumTm>10</sumTm><tcsName>hi-pass</tcsName><tcsType>2</tcsType><tmName>1시간</tmName><tmType>1</tmType><trafficAmout>32</trafficAmout></trafficAll><trafficAll><carType>1</carType><exDivCode>02</exDivCode><exDivName>민자</exDivName><sumDate>20240318</sumDate><sumTm>10</sumTm><tcsName>TCS</tcsName><tcsType>1</tcsType><tmName>1시간</tmName><tmType>1</tmType><trafficAmout>510</trafficAmout></trafficAll><trafficAll><carType>1</carType><exDivCode>02</exDivCode><exDivName>민자</exDivName><sumDate>20240318</sumDate><sumTm>10</sumTm><tcsName>hi-pass</tcsName><tcsType>2</tcsType><tmName>1시간</tmName><tmType>1</tmType><trafficAmout>3329</trafficAmout></trafficAll><trafficAll><carType>2</carType><exDivCode>00</exDivCode><exDivName>도공</exDivName><sumDate>20240318</sumDate><sumTm>10</sumTm><tcsName>TCS</tcsName><tcsType>1</tcsType><tmName>1시간</tmName><tmType>1</tmType><trafficAmout>1038</trafficAmout></trafficAll><trafficAll><carType>2</carType><exDivCode>00</exDivCode><exDivName>도공</exDivName><sumDate>20240318</sumDate><sumTm>10</sumTm><tcsName>hi-pass</tcsName><tcsType>2</tcsType><tmName>1시간</tmName><tmType>1</tmType><trafficAmout>9266</trafficAmout></trafficAll><trafficAll><carType>4</carType><exDivCode>00</exDivCode><exDivName>도공</exDivName><sumDate>20240318</sumDate><sumTm>10</sumTm><tcsName>TCS</tcsName><tcsType>1</tcsType><tmName>1시간</tmName><tmType>1</tmType><trafficAmout>3095</trafficAmout></trafficAll><trafficAll><carType>4</carType><exDivCode>00</exDivCode><exDivName>도공</exDivName><sumDate>20240318</sumDate><sumTm>10</sumTm><tcsName>hi-pass</tcsName><tcsType>2</tcsType><tmName>1시간</tmName><tmType>1</tmType><trafficAmout>7205</trafficAmout></trafficAll><trafficAll><carType>1</carType><exDivCode>01</exDivCode><exDivName>민자</exDivName><sumDate>20240318</sumDate><sumTm>10</sumTm><tcsName>TCS</tcsName><tcsType>1</tcsType><tmName>1시간</tmName><tmType>1</tmType><trafficAmout>292</trafficAmout></trafficAll><trafficAll><carType>1</carType><exDivCode>01</exDivCode><exDivName>민자</exDivName><sumDate>20240318</sumDate><sumTm>10</sumTm><tcsName>hi-pass</tcsName><tcsType>2</tcsType><tmName>1시간</tmName><tmType>1</tmType><trafficAmout>3801</trafficAmout></trafficAll><trafficAll><carType>6</carType><exDivCode>01</exDivCode><exDivName>민자</exDivName><sumDate>20240318</sumDate><sumTm>10</sumTm><tcsName>TCS</tcsName><tcsType>1</tcsType><tmName>1시간</tmName><tmType>1</tmType><trafficAmout>18</trafficAmout></trafficAll><trafficAll><carType>6</carType><exDivCode>01</exDivCode><exDivName>민자</exDivName><sumDate>20240318</sumDate><sumTm>10</sumTm><tcsName>hi-pass</tcsName><tcsType>2</tcsType><tmName>1시간</tmName><tmType>1</tmType><trafficAmout>81</trafficAmout></trafficAll><trafficAll><carType>3</carType><exDivCode>02</exDivCode><exDivName>민자</exDivName><sumDate>20240318</sumDate><sumTm>10</sumTm><tcsName>TCS</tcsName><tcsType>1</tcsType><tmName>1시간</tmName><tmType>1</tmType><trafficAmout>119</trafficAmout></trafficAll><trafficAll><carType>3</carType><exDivCode>02</exDivCode><exDivName>민자</exDivName><sumDate>20240318</sumDate><sumTm>10</sumTm><tcsName>hi-pass</tcsName><tcsType>2</tcsType><tmName>1시간</tmName><tmType>1</tmType><trafficAmout>107</trafficAmout></trafficAll><trafficAll><carType>2</carType><exDivCode>11</exDivCode><exDivName>민자</exDivName><sumDate>20240318</sumDate><sumTm>10</sumTm><tcsName>TCS</tcsName><tcsType>1</tcsType><tmName>1시간</tmName><tmType>1</tmType><trafficAmout>26</trafficAmout></trafficAll><trafficAll><carType>2</carType><exDivCode>11</exDivCode><exDivName>민자</exDivName><sumDate>20240318</sumDate><sumTm>10</sumTm><tcsName>hi-pass</tcsName><tcsType>2</tcsType><tmName>1시간</tmName><tmType>1</tmType><trafficAmout>40</trafficAmout></trafficAll><trafficAll><carType>6</carType><exDivCode>11</exDivCode><exDivName>민자</exDivName><sumDate>20240318</sumDate><sumTm>10</sumTm><tcsName>TCS</tcsName><tcsType>1</tcsType><tmName>1시간</tmName><tmType>1</tmType><trafficAmout>8</trafficAmout></trafficAll><trafficAll><carType>6</carType><exDivCode>11</exDivCode><exDivName>민자</exDivName><sumDate>20240318</sumDate><sumTm>10</sumTm><tcsName>hi-pass</tcsName><tcsType>2</tcsType><tmName>1시간</tmName><tmType>1</tmType><trafficAmout>41</trafficAmout></trafficAll><trafficAll><carType>5</carType><exDivCode>18</exDivCode><exDivName>민자</exDivName><sumDate>20240318</sumDate><sumTm>10</sumTm><tcsName>TCS</tcsName><tcsType>1</tcsType><tmName>1시간</tmName><tmType>1</tmType><trafficAmout>44</trafficAmout></trafficAll><trafficAll><carType>5</carType><exDivCode>18</exDivCode><exDivName>민자</exDivName><sumDate>20240318</sumDate><sumTm>10</sumTm><tcsName>hi-pass</tcsName><tcsType>2</tcsType><tmName>1시간</tmName><tmType>1</tmType><trafficAmout>363</trafficAmout></trafficAll><trafficAll><carType>1</carType><exDivCode>18</exDivCode><exDivName>민자</exDivName><sumDate>20240318</sumDate><sumTm>10</sumTm><tcsName>TCS</tcsName><tcsType>1</tcsType><tmName>1시간</tmName><tmType>1</tmType><trafficAmout>176</trafficAmout></trafficAll><trafficAll><carType>1</carType><exDivCode>18</exDivCode><exDivName>민자</exDivName><sumDate>20240318</sumDate><sumTm>10</sumTm><tcsName>hi-pass</tcsName><tcsType>2</tcsType><tmName>1시간</tmName><tmType>1</tmType><trafficAmout>1305</trafficAmout></trafficAll><trafficAll><carType>4</carType><exDivCode>18</exDivCode><exDivName>민자</exDivName><sumDate>20240318</sumDate><sumTm>10</sumTm><tcsName>TCS</tcsName><tcsType>1</tcsType><tmName>1시간</tmName><tmType>1</tmType><trafficAmout>108</trafficAmout></trafficAll><trafficAll><carType>4</carType><exDivCode>18</exDivCode><exDivName>민자</exDivName><sumDate>20240318</sumDate><sumTm>10</sumTm><tcsName>hi-pass</tcsName><tcsType>2</tcsType><tmName>1시간</tmName><tmType>1</tmType><trafficAmout>197</trafficAmout></trafficAll><trafficAll><carType>6</carType><exDivCode>18</exDivCode><exDivName>민자</exDivName><sumDate>20240318</sumDate><sumTm>10</sumTm><tcsName>TCS</tcsName><tcsType>1</tcsType><tmName>1시간</tmName><tmType>1</tmType><trafficAmout>21</trafficAmout></trafficAll><trafficAll><carType>6</carType><exDivCode>18</exDivCode><exDivName>민자</exDivName><sumDate>20240318</sumDate><sumTm>10</sumTm><tcsName>hi-pass</tcsName><tcsType>2</tcsType><tmName>1시간</tmName><tmType>1</tmType><trafficAmout>46</trafficAmout></trafficAll></data>\n"
          ]
        }
      ],
      "source": [
        "import requests\n",
        "\n",
        "url = \"https://data.ex.co.kr/openapi/trafficapi/trafficAll?key=1671079607&type=xml\"\n",
        "\n",
        "r = requests.get(url)\n",
        "print(r.text)"
      ]
    },
    {
      "cell_type": "code",
      "source": [
        "from bs4 import BeautifulSoup\n",
        "\n",
        "soup = BeautifulSoup(r.text, features=\"xml\")"
      ],
      "metadata": {
        "id": "RJ6J5ElIh-BQ"
      },
      "execution_count": 7,
      "outputs": []
    },
    {
      "cell_type": "code",
      "source": [
        "soup.find_all('trafficAmout')"
      ],
      "metadata": {
        "colab": {
          "base_uri": "https://localhost:8080/"
        },
        "id": "SWe6Po14iclm",
        "outputId": "93c6e65c-40cc-4938-b128-526136781e26"
      },
      "execution_count": 8,
      "outputs": [
        {
          "output_type": "execute_result",
          "data": {
            "text/plain": [
              "[<trafficAmout>18564</trafficAmout>,\n",
              " <trafficAmout>194543</trafficAmout>,\n",
              " <trafficAmout>1024</trafficAmout>,\n",
              " <trafficAmout>14673</trafficAmout>,\n",
              " <trafficAmout>18</trafficAmout>,\n",
              " <trafficAmout>111</trafficAmout>,\n",
              " <trafficAmout>8</trafficAmout>,\n",
              " <trafficAmout>346</trafficAmout>,\n",
              " <trafficAmout>45</trafficAmout>,\n",
              " <trafficAmout>129</trafficAmout>,\n",
              " <trafficAmout>170</trafficAmout>,\n",
              " <trafficAmout>110</trafficAmout>,\n",
              " <trafficAmout>113</trafficAmout>,\n",
              " <trafficAmout>899</trafficAmout>,\n",
              " <trafficAmout>35</trafficAmout>,\n",
              " <trafficAmout>91</trafficAmout>,\n",
              " <trafficAmout>63</trafficAmout>,\n",
              " <trafficAmout>85</trafficAmout>,\n",
              " <trafficAmout>22</trafficAmout>,\n",
              " <trafficAmout>37</trafficAmout>,\n",
              " <trafficAmout>500</trafficAmout>,\n",
              " <trafficAmout>1665</trafficAmout>,\n",
              " <trafficAmout>3</trafficAmout>,\n",
              " <trafficAmout>27</trafficAmout>,\n",
              " <trafficAmout>75</trafficAmout>,\n",
              " <trafficAmout>39</trafficAmout>,\n",
              " <trafficAmout>15</trafficAmout>,\n",
              " <trafficAmout>60</trafficAmout>,\n",
              " <trafficAmout>137</trafficAmout>,\n",
              " <trafficAmout>293</trafficAmout>,\n",
              " <trafficAmout>16</trafficAmout>,\n",
              " <trafficAmout>161</trafficAmout>,\n",
              " <trafficAmout>3995</trafficAmout>,\n",
              " <trafficAmout>7681</trafficAmout>,\n",
              " <trafficAmout>22</trafficAmout>,\n",
              " <trafficAmout>299</trafficAmout>,\n",
              " <trafficAmout>80</trafficAmout>,\n",
              " <trafficAmout>355</trafficAmout>,\n",
              " <trafficAmout>8</trafficAmout>,\n",
              " <trafficAmout>35</trafficAmout>,\n",
              " <trafficAmout>262</trafficAmout>,\n",
              " <trafficAmout>739</trafficAmout>,\n",
              " <trafficAmout>33</trafficAmout>,\n",
              " <trafficAmout>188</trafficAmout>,\n",
              " <trafficAmout>11</trafficAmout>,\n",
              " <trafficAmout>36</trafficAmout>,\n",
              " <trafficAmout>112</trafficAmout>,\n",
              " <trafficAmout>214</trafficAmout>,\n",
              " <trafficAmout>2402</trafficAmout>,\n",
              " <trafficAmout>9508</trafficAmout>,\n",
              " <trafficAmout>72</trafficAmout>,\n",
              " <trafficAmout>172</trafficAmout>,\n",
              " <trafficAmout>65</trafficAmout>,\n",
              " <trafficAmout>107</trafficAmout>,\n",
              " <trafficAmout>172</trafficAmout>,\n",
              " <trafficAmout>83</trafficAmout>,\n",
              " <trafficAmout>9</trafficAmout>,\n",
              " <trafficAmout>6</trafficAmout>,\n",
              " <trafficAmout>71</trafficAmout>,\n",
              " <trafficAmout>32</trafficAmout>,\n",
              " <trafficAmout>510</trafficAmout>,\n",
              " <trafficAmout>3329</trafficAmout>,\n",
              " <trafficAmout>1038</trafficAmout>,\n",
              " <trafficAmout>9266</trafficAmout>,\n",
              " <trafficAmout>3095</trafficAmout>,\n",
              " <trafficAmout>7205</trafficAmout>,\n",
              " <trafficAmout>292</trafficAmout>,\n",
              " <trafficAmout>3801</trafficAmout>,\n",
              " <trafficAmout>18</trafficAmout>,\n",
              " <trafficAmout>81</trafficAmout>,\n",
              " <trafficAmout>119</trafficAmout>,\n",
              " <trafficAmout>107</trafficAmout>,\n",
              " <trafficAmout>26</trafficAmout>,\n",
              " <trafficAmout>40</trafficAmout>,\n",
              " <trafficAmout>8</trafficAmout>,\n",
              " <trafficAmout>41</trafficAmout>,\n",
              " <trafficAmout>44</trafficAmout>,\n",
              " <trafficAmout>363</trafficAmout>,\n",
              " <trafficAmout>176</trafficAmout>,\n",
              " <trafficAmout>1305</trafficAmout>,\n",
              " <trafficAmout>108</trafficAmout>,\n",
              " <trafficAmout>197</trafficAmout>,\n",
              " <trafficAmout>21</trafficAmout>,\n",
              " <trafficAmout>46</trafficAmout>]"
            ]
          },
          "metadata": {},
          "execution_count": 8
        }
      ]
    }
  ]
}