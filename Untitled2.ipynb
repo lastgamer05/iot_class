{
  "nbformat": 4,
  "nbformat_minor": 0,
  "metadata": {
    "colab": {
      "provenance": [],
      "authorship_tag": "ABX9TyPlQyqqXlTCaGZSrg4VAqXV",
      "include_colab_link": true
    },
    "kernelspec": {
      "name": "python3",
      "display_name": "Python 3"
    },
    "language_info": {
      "name": "python"
    }
  },
  "cells": [
    {
      "cell_type": "markdown",
      "metadata": {
        "id": "view-in-github",
        "colab_type": "text"
      },
      "source": [
        "<a href=\"https://colab.research.google.com/github/lastgamer05/iot_class/blob/main/Untitled2.ipynb\" target=\"_parent\"><img src=\"https://colab.research.google.com/assets/colab-badge.svg\" alt=\"Open In Colab\"/></a>"
      ]
    },
    {
      "cell_type": "code",
      "execution_count": null,
      "metadata": {
        "id": "SMFj4PgtH8Gl",
        "colab": {
          "base_uri": "https://localhost:8080/"
        },
        "outputId": "7332d029-376f-46c3-a7a2-eebf5463c611"
      },
      "outputs": [
        {
          "output_type": "stream",
          "name": "stdout",
          "text": [
            "<?xml version=\"1.0\" encoding=\"UTF-8\" standalone=\"yes\"?><response><comMsgHeader/><msgHeader><queryTime>2024-03-14 13:54:08.294</queryTime><resultCode>0</resultCode><resultMessage>정상적으로 처리되었습니다.</resultMessage></msgHeader><msgBody><busLocationList><endBus>0</endBus><lowPlate>0</lowPlate><plateNo>경기70사6762</plateNo><plateType>3</plateType><remainSeatCnt>-1</remainSeatCnt><routeId>241006190</routeId><stationId>277103151</stationId><stationSeq>37</stationSeq></busLocationList><busLocationList><endBus>0</endBus><lowPlate>0</lowPlate><plateNo>경기70사6765</plateNo><plateType>3</plateType><remainSeatCnt>-1</remainSeatCnt><routeId>241006190</routeId><stationId>277101005</stationId><stationSeq>27</stationSeq></busLocationList><busLocationList><endBus>0</endBus><lowPlate>0</lowPlate><plateNo>경기70사6763</plateNo><plateType>3</plateType><remainSeatCnt>-1</remainSeatCnt><routeId>241006190</routeId><stationId>277103446</stationId><stationSeq>17</stationSeq></busLocationList><busLocationList><endBus>0</endBus><lowPlate>0</lowPlate><plateNo>경기70사6547</plateNo><plateType>3</plateType><remainSeatCnt>-1</remainSeatCnt><routeId>241006190</routeId><stationId>277103442</stationId><stationSeq>12</stationSeq></busLocationList><busLocationList><endBus>0</endBus><lowPlate>0</lowPlate><plateNo>경기70사6761</plateNo><plateType>3</plateType><remainSeatCnt>-1</remainSeatCnt><routeId>241006190</routeId><stationId>123000015</stationId><stationSeq>41</stationSeq></busLocationList></msgBody></response>\n"
          ]
        }
      ],
      "source": [
        "import requests\n",
        "url = \"http://apis.data.go.kr/6410000/buslocationservice/getBusLocationList?serviceKey=z0l737pURnC6czw5BHiIivDyp0EE21fBQtqJjQkDUWmbaVJ8CmYY0jR14gulB9OObKscB4KgG%2FrRZmARSQJSpg%3D%3D&routeId=241006190\"\n",
        "r = requests.get(url)\n",
        "print(r.text)\n"
      ]
    },
    {
      "cell_type": "code",
      "source": [
        "from bs4 import BeautifulSoup\n",
        "\n",
        "soup = BeautifulSoup(r.text, features=\"xml\")"
      ],
      "metadata": {
        "id": "EN13z0LRMUGO"
      },
      "execution_count": null,
      "outputs": []
    },
    {
      "cell_type": "code",
      "source": [
        "soup.find_all('stationId')"
      ],
      "metadata": {
        "colab": {
          "base_uri": "https://localhost:8080/"
        },
        "id": "FWAKwNJWT3xR",
        "outputId": "bdc39005-fe73-469e-8654-de55a5ebace5"
      },
      "execution_count": null,
      "outputs": [
        {
          "output_type": "execute_result",
          "data": {
            "text/plain": [
              "[<stationId>277103151</stationId>,\n",
              " <stationId>277101005</stationId>,\n",
              " <stationId>277103446</stationId>,\n",
              " <stationId>277103442</stationId>,\n",
              " <stationId>123000015</stationId>]"
            ]
          },
          "metadata": {},
          "execution_count": 9
        }
      ]
    }
  ]
}