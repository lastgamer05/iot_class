{
  "nbformat": 4,
  "nbformat_minor": 0,
  "metadata": {
    "colab": {
      "provenance": [],
      "authorship_tag": "ABX9TyPlQyqqXlTCaGZSrg4VAqXV",
      "include_colab_link": true
    },
    "kernelspec": {
      "name": "python3",
      "display_name": "Python 3"
    },
    "language_info": {
      "name": "python"
    }
  },
  "cells": [
    {
      "cell_type": "markdown",
      "metadata": {
        "id": "view-in-github",
        "colab_type": "text"
      },
      "source": [
        "<a href=\"https://colab.research.google.com/github/lastgamer05/iot_class/blob/main/bus_information.ipynb\" target=\"_parent\"><img src=\"https://colab.research.google.com/assets/colab-badge.svg\" alt=\"Open In Colab\"/></a>"
      ]
    },
    {
      "cell_type": "code",
      "execution_count": 1,
      "metadata": {
        "id": "SMFj4PgtH8Gl",
        "colab": {
          "base_uri": "https://localhost:8080/"
        },
        "outputId": "95753bd8-ccf1-4640-fd5d-164595d59144"
      },
      "outputs": [
        {
          "output_type": "stream",
          "name": "stdout",
          "text": [
            "<?xml version=\"1.0\" encoding=\"UTF-8\" standalone=\"yes\"?><response><comMsgHeader/><msgHeader><queryTime>2024-03-17 18:27:05.110</queryTime><resultCode>0</resultCode><resultMessage>정상적으로 처리되었습니다.</resultMessage></msgHeader><msgBody><busLocationList><endBus>0</endBus><lowPlate>0</lowPlate><plateNo>경기70사6549</plateNo><plateType>3</plateType><remainSeatCnt>-1</remainSeatCnt><routeId>241006190</routeId><stationId>285500030</stationId><stationSeq>24</stationSeq></busLocationList><busLocationList><endBus>0</endBus><lowPlate>0</lowPlate><plateNo>경기70사6764</plateNo><plateType>3</plateType><remainSeatCnt>-1</remainSeatCnt><routeId>241006190</routeId><stationId>277102429</stationId><stationSeq>10</stationSeq></busLocationList><busLocationList><endBus>0</endBus><lowPlate>0</lowPlate><plateNo>경기70사6562</plateNo><plateType>3</plateType><remainSeatCnt>-1</remainSeatCnt><routeId>241006190</routeId><stationId>277101004</stationId><stationSeq>25</stationSeq></busLocationList><busLocationList><endBus>0</endBus><lowPlate>0</lowPlate><plateNo>경기70사6541</plateNo><plateType>3</plateType><remainSeatCnt>-1</remainSeatCnt><routeId>241006190</routeId><stationId>277103451</stationId><stationSeq>28</stationSeq></busLocationList><busLocationList><endBus>0</endBus><lowPlate>0</lowPlate><plateNo>경기70사6570</plateNo><plateType>3</plateType><remainSeatCnt>-1</remainSeatCnt><routeId>241006190</routeId><stationId>277103447</stationId><stationSeq>30</stationSeq></busLocationList><busLocationList><endBus>0</endBus><lowPlate>0</lowPlate><plateNo>경기70사6551</plateNo><plateType>3</plateType><remainSeatCnt>-1</remainSeatCnt><routeId>241006190</routeId><stationId>277101006</stationId><stationSeq>21</stationSeq></busLocationList><busLocationList><endBus>0</endBus><lowPlate>0</lowPlate><plateNo>경기70사6765</plateNo><plateType>3</plateType><remainSeatCnt>-1</remainSeatCnt><routeId>241006190</routeId><stationId>123000009</stationId><stationSeq>42</stationSeq></busLocationList></msgBody></response>\n"
          ]
        }
      ],
      "source": [
        "import requests\n",
        "url = \"http://apis.data.go.kr/6410000/buslocationservice/getBusLocationList?serviceKey=z0l737pURnC6czw5BHiIivDyp0EE21fBQtqJjQkDUWmbaVJ8CmYY0jR14gulB9OObKscB4KgG%2FrRZmARSQJSpg%3D%3D&routeId=241006190\"\n",
        "r = requests.get(url)\n",
        "print(r.text)\n"
      ]
    },
    {
      "cell_type": "code",
      "source": [
        "from bs4 import BeautifulSoup\n",
        "\n",
        "soup = BeautifulSoup(r.text, features=\"xml\")"
      ],
      "metadata": {
        "id": "EN13z0LRMUGO"
      },
      "execution_count": 2,
      "outputs": []
    },
    {
      "cell_type": "code",
      "source": [
        "soup.find_all('stationId')"
      ],
      "metadata": {
        "colab": {
          "base_uri": "https://localhost:8080/"
        },
        "id": "FWAKwNJWT3xR",
        "outputId": "3ed7bbe4-bcd4-4547-f3c5-d939dae73a4b"
      },
      "execution_count": 3,
      "outputs": [
        {
          "output_type": "execute_result",
          "data": {
            "text/plain": [
              "[<stationId>285500030</stationId>,\n",
              " <stationId>277102429</stationId>,\n",
              " <stationId>277101004</stationId>,\n",
              " <stationId>277103451</stationId>,\n",
              " <stationId>277103447</stationId>,\n",
              " <stationId>277101006</stationId>,\n",
              " <stationId>123000009</stationId>]"
            ]
          },
          "metadata": {},
          "execution_count": 3
        }
      ]
    }
  ]
}