{
  "nbformat": 4,
  "nbformat_minor": 0,
  "metadata": {
    "colab": {
      "provenance": [],
      "authorship_tag": "ABX9TyMBPyrJZUwZoC1XOoIk23DC",
      "include_colab_link": true
    },
    "kernelspec": {
      "name": "python3",
      "display_name": "Python 3"
    },
    "language_info": {
      "name": "python"
    }
  },
  "cells": [
    {
      "cell_type": "markdown",
      "metadata": {
        "id": "view-in-github",
        "colab_type": "text"
      },
      "source": [
        "<a href=\"https://colab.research.google.com/github/lastgamer05/iot_class/blob/main/socket.ipynb\" target=\"_parent\"><img src=\"https://colab.research.google.com/assets/colab-badge.svg\" alt=\"Open In Colab\"/></a>"
      ]
    },
    {
      "cell_type": "code",
      "execution_count": 4,
      "metadata": {
        "colab": {
          "base_uri": "https://localhost:8080/"
        },
        "id": "WxL3Jl5GTkZr",
        "outputId": "a9cd0b07-e633-4428-8e73-2a842f19becd"
      },
      "outputs": [
        {
          "output_type": "stream",
          "name": "stdout",
          "text": [
            "Received HTTP/1.1 200 OK\r\n",
            "Date: Thu, 28 Mar 2024 04:44:16 GMT\r\n",
            "Expires: -1\r\n",
            "Cache-Control: private, max-age=0\r\n",
            "Content-Type: text/html; charset=ISO-8859-1\r\n",
            "Content-Security-Policy-Report-Only: object-src 'none';base-uri 'self';script-src 'nonce-6-k2nmb6h_VrGQMyGW05hA' 'strict-dynamic' 'report-sample' 'unsafe-eval' 'unsafe-inline' https: http:;report-uri https://csp.withgoogle.com/csp/gws/other-hp\r\n",
            "P3P: CP=\"This is not a P3P policy! See g.co/p3phelp for more info.\"\r\n",
            "Server: gws\r\n",
            "X-XSS-Protection: 0\r\n",
            "X-Frame-Options: SAMEORIGIN\r\n",
            "Set-Cookie: 1P_JAR=2024-03-28-04; expires=Sat, 27-Apr-2024 04:44:16 GMT; path=/; domain=.google.com; Secure\r\n",
            "Set-Cookie: AEC=Ae3NU9NG7jvAoK6D36vyt4hZlpDBSssc7y9lpmo7Wpwl0Pg__nZ76h-nX4E; expires=Tue, 24-Sep-2024 04:44:16 GMT; path=/; domain=.google.com; Secure; HttpOnly; SameSite=lax\r\n",
            "Set-Cookie: NID=512=a_PULkbPfcp5nwefdJX9uA4_Ov4nGt-E17-Sr8Z3vAuTQIDQgwrtvT-GE6Aj2ADIt7cZ6JIFGTqV2dSOLh-qRePZFG8MgDp0bCGscT1duMRCOpG3jmT-GtiLA1EyfSGj9Bop8lGnsz-BkMP6GeuRWQ4sc8HlVWuOT0mLA_2Jcfc; expires=Fri, 27-Sep-20\n"
          ]
        }
      ],
      "source": [
        "import socket\n",
        "\n",
        "HOST = \"colab.research.google.com\"\n",
        "PORT = 80\n",
        "\n",
        "with socket.socket(socket.AF_INET, socket.SOCK_STREAM) as s:\n",
        "    s.connect((HOST, PORT))\n",
        "    s.sendall(b\"GET / HTTP/1.2\\n\\n\")\n",
        "    data = s.recv(1024)\n",
        "\n",
        "print(f\"Received {data.decode('utf-8')}\")"
      ]
    }
  ]
}